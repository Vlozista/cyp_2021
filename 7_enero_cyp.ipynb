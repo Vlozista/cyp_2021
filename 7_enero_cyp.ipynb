{
  "nbformat": 4,
  "nbformat_minor": 0,
  "metadata": {
    "colab": {
      "name": "7-enero-cyp.ipynb",
      "provenance": [],
      "authorship_tag": "ABX9TyNa7eqpbI6HIboo4Bei2w/n",
      "include_colab_link": true
    },
    "kernelspec": {
      "name": "python3",
      "display_name": "Python 3"
    }
  },
  "cells": [
    {
      "cell_type": "markdown",
      "metadata": {
        "id": "view-in-github",
        "colab_type": "text"
      },
      "source": [
        "<a href=\"https://colab.research.google.com/github/Vlozista/cyp_2021/blob/main/7_enero_cyp.ipynb\" target=\"_parent\"><img src=\"https://colab.research.google.com/assets/colab-badge.svg\" alt=\"Open In Colab\"/></a>"
      ]
    },
    {
      "cell_type": "code",
      "metadata": {
        "colab": {
          "base_uri": "https://localhost:8080/"
        },
        "id": "xROtd8z8BM2U",
        "outputId": "d608e0bb-1a67-446d-9556-60baddbed170"
      },
      "source": [
        "REN = 3\r\n",
        "COL = 5\r\n",
        "VEC = [ [0 for x in range(COL)] for x in range(REN)]\r\n",
        "print(VEC)\r\n",
        "VEC [1][2]=15\r\n",
        "print(VEC)\r\n",
        "\r\n",
        "print(\"Automatizar el recorrido del arreglo\")\r\n",
        "for i in range(REN):\r\n",
        "  for j in range(COL):\r\n",
        "    print(f\"{i},{j} = {VEC[i][j]}\")"
      ],
      "execution_count": 3,
      "outputs": [
        {
          "output_type": "stream",
          "text": [
            "[[0, 0, 0, 0, 0], [0, 0, 0, 0, 0], [0, 0, 0, 0, 0]]\n",
            "[[0, 0, 0, 0, 0], [0, 0, 15, 0, 0], [0, 0, 0, 0, 0]]\n",
            "Automatizar el recorrido del arreglo\n",
            "0,0 = 0\n",
            "0,1 = 0\n",
            "0,2 = 0\n",
            "0,3 = 0\n",
            "0,4 = 0\n",
            "1,0 = 0\n",
            "1,1 = 0\n",
            "1,2 = 15\n",
            "1,3 = 0\n",
            "1,4 = 0\n",
            "2,0 = 0\n",
            "2,1 = 0\n",
            "2,2 = 0\n",
            "2,3 = 0\n",
            "2,4 = 0\n"
          ],
          "name": "stdout"
        }
      ]
    },
    {
      "cell_type": "code",
      "metadata": {
        "colab": {
          "base_uri": "https://localhost:8080/"
        },
        "id": "Rl_-gmUWFQ9D",
        "outputId": "58b54c10-f80d-4fcb-a7c7-b42e2cf50b65"
      },
      "source": [
        "estados= int (input(\"Cuantos estados son?: \"))\r\n",
        "lluvias_men_est= [ [0 for x in range(12)] for x in range(estados)]\r\n",
        "print(lluvias_men_est)\r\n",
        "for i in range(estados):\r\n",
        "  for j in range(12):\r\n",
        "    mensaje = \"dame el valor del estado \"+ str(i+1) +\" del mes \"+ str(j+i),\":\"\r\n",
        "    aux = int(input(mensaje))\r\n",
        "    lluvias_men_est[i][j]= aux\r\n",
        "\r\n",
        "print(lluvias_men_est)\r\n",
        "  \r\n",
        "print(\"promedio de lluvias en los estados: \")\r\n",
        "suma = 0\r\n",
        "for i in range(estados):\r\n",
        "  suma = 0\r\n",
        "  for j in range(12):\r\n",
        "    suma = suma + lluvias_men_est[i][j]\r\n",
        "  print(f\"El promdeio de lluvias en el estado {i+1} es { suma / 12 }\")\r\n"
      ],
      "execution_count": 12,
      "outputs": [
        {
          "output_type": "stream",
          "text": [
            "Cuantos estados son?: 2\n",
            "[[0, 0, 0, 0, 0, 0, 0, 0, 0, 0, 0, 0], [0, 0, 0, 0, 0, 0, 0, 0, 0, 0, 0, 0]]\n",
            "dame el valor del estado 1 del mes 0,:50\n",
            "dame el valor del estado 1 del mes 1,:7\n",
            "dame el valor del estado 1 del mes 2,:12\n",
            "dame el valor del estado 1 del mes 3,:15\n",
            "dame el valor del estado 1 del mes 4,:22\n",
            "dame el valor del estado 1 del mes 5,:50\n",
            "dame el valor del estado 1 del mes 6,:85\n",
            "dame el valor del estado 1 del mes 7,:70\n",
            "dame el valor del estado 1 del mes 8,:65\n",
            "dame el valor del estado 1 del mes 9,:28\n",
            "dame el valor del estado 1 del mes 10,:35\n",
            "dame el valor del estado 1 del mes 11,:17\n",
            "dame el valor del estado 2 del mes 1,:45\n",
            "dame el valor del estado 2 del mes 2,:3\n",
            "dame el valor del estado 2 del mes 3,:10\n",
            "dame el valor del estado 2 del mes 4,:5\n",
            "dame el valor del estado 2 del mes 5,:30\n",
            "dame el valor del estado 2 del mes 6,:90\n",
            "dame el valor del estado 2 del mes 7,:130\n",
            "dame el valor del estado 2 del mes 8,:75\n",
            "dame el valor del estado 2 del mes 9,:49\n",
            "dame el valor del estado 2 del mes 10,:37\n",
            "dame el valor del estado 2 del mes 11,:15\n",
            "dame el valor del estado 2 del mes 12,:8\n",
            "[[50, 7, 12, 15, 22, 50, 85, 70, 65, 28, 35, 17], [45, 3, 10, 5, 30, 90, 130, 75, 49, 37, 15, 8]]\n",
            "promedio de lluvias en los estados: \n",
            "El promdeio de lluvias en el estado 1 es 38.0\n",
            "El promdeio de lluvias en el estado 2 es 41.416666666666664\n"
          ],
          "name": "stdout"
        }
      ]
    },
    {
      "cell_type": "code",
      "metadata": {
        "id": "_zpCzMXXGa5m"
      },
      "source": [
        ""
      ],
      "execution_count": null,
      "outputs": []
    }
  ]
}