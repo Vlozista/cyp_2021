{
  "nbformat": 4,
  "nbformat_minor": 0,
  "metadata": {
    "colab": {
      "name": "26-enero-2021.ipynb",
      "provenance": [],
      "authorship_tag": "ABX9TyMsiiUkM4aQEt0KQsYoHhca",
      "include_colab_link": true
    },
    "kernelspec": {
      "name": "python3",
      "display_name": "Python 3"
    }
  },
  "cells": [
    {
      "cell_type": "markdown",
      "metadata": {
        "id": "view-in-github",
        "colab_type": "text"
      },
      "source": [
        "<a href=\"https://colab.research.google.com/github/Vlozista/cyp_2021/blob/main/26_enero_2021.ipynb\" target=\"_parent\"><img src=\"https://colab.research.google.com/assets/colab-badge.svg\" alt=\"Open In Colab\"/></a>"
      ]
    },
    {
      "cell_type": "markdown",
      "metadata": {
        "id": "-wrmDUZttF9n"
      },
      "source": [
        "# Listas de Phython 3\r\n",
        "1. Es una estructura de datos lineal o de 0 o n elemntos.\r\n",
        "1. \"Equivalente\" a los arreglos.\r\n",
        "1. Pueden ser de diferente tipo de dato. [1,2,32,12]  , [1, true, 2.34, \"hola\"]\r\n",
        "1. Pueden ser andiados, listas de listas. [\"Melon\", \"manzana roja\", \"manzana amarilla\"]\r\n",
        "1. Su selector es de la forma: [int]\r\n",
        "1. Son mutables"
      ]
    },
    {
      "cell_type": "code",
      "metadata": {
        "id": "mR2pW6x2vDbk"
      },
      "source": [
        "# Ejemplos\r\n",
        "numeros = [4,2,45,7,83,3]\r\n",
        "print(numeros)\r\n",
        "print(numeros[2])\r\n",
        "\r\n",
        "# una lista de  0 elemntos\r\n",
        "colores= [] #list()\r\n",
        "type(colores) # averiguar de que tipo de dato es una variable con la funcion\r\n",
        "dias = list()\r\n",
        "print(colores)\r\n",
        "print(dias)"
      ],
      "execution_count": null,
      "outputs": []
    },
    {
      "cell_type": "code",
      "metadata": {
        "id": "xU2Dzyo_wJLD"
      },
      "source": [
        "# Pueden de diferente tipo de datos\r\n",
        "mi_lista = [1,2,3,\"jose\",False,1.76,[5546759100,44553412432,556677888]\r\n",
        "print(mi_lista)\r\n",
        "print(mi_lista[5] )\r\n",
        "print(mi_lista[6][1] )\r\n",
        "print(mi_lista[3][3] )\r\n",
        "print(mi_lista[3][3::] )"
      ],
      "execution_count": null,
      "outputs": []
    },
    {
      "cell_type": "code",
      "metadata": {
        "colab": {
          "base_uri": "https://localhost:8080/"
        },
        "id": "rnBp86sj0ZUY",
        "outputId": "17a6602d-b4ec-44ef-cbf4-1ef4e572d470"
      },
      "source": [
        "frutas = [\"melon\", \"sandia\", \"kiwi\", \"aguacate\" , \"mango\" , \"platano\"]\r\n",
        "print(frutas)\r\n",
        "frutas[0] = \"Melon\"\r\n",
        "print(frutas)\r\n",
        "frutas[1] = \"S\"\r\n",
        "print(frutas)\r\n",
        "#frutas[1][0] = \"s\"\r\n",
        "frutas[1] = frutas[1].capitalize()\r\n",
        "print(frutas)\r\n"
      ],
      "execution_count": 5,
      "outputs": [
        {
          "output_type": "stream",
          "text": [
            "['melon', 'sandia', 'kiwi', 'aguacate', 'mango', 'platano']\n",
            "['Melon', 'sandia', 'kiwi', 'aguacate', 'mango', 'platano']\n",
            "['Melon', 'S', 'kiwi', 'aguacate', 'mango', 'platano']\n",
            "['Melon', 'S', 'kiwi', 'aguacate', 'mango', 'platano']\n"
          ],
          "name": "stdout"
        }
      ]
    },
    {
      "cell_type": "code",
      "metadata": {
        "colab": {
          "base_uri": "https://localhost:8080/"
        },
        "id": "ldOTFUwb2DMc",
        "outputId": "ac183374-6d7b-4e2a-a703-4749655a36bf"
      },
      "source": [
        "# Las listas son clases por lo tanto, tienen metidos.\r\n",
        "# Ejemplo: Append, agrega un elemento al final\r\n",
        "frutas = [\"melon\", \"sandia\", \"kiwi\", \"aguacate\" , \"mango\" , \"platano\"]\r\n",
        "frutas.append(\"Fresa\")\r\n",
        "print(frutas)\r\n",
        "\r\n",
        "print(\"Ejemplo de copias\")\r\n",
        "otras_frutas = frutas.copy()\r\n",
        "print(frutas)\r\n",
        "print(otras_frutas)\r\n",
        "otras_frutas[0] = \"Chico zapote\"\r\n",
        "print(otras_frutas)\r\n",
        "print(frutas)\r\n",
        "print(\"------------\")\r\n",
        "\r\n",
        "\r\n",
        "print(\"Ejemplo de extend\")\r\n",
        "\r\n",
        "colores = [\"rojo\", \"verde\", \"azul\"]\r\n",
        "\r\n",
        "frutas.extend(colores)\r\n",
        "print(frutas)\r\n",
        "\r\n",
        "print(\"Ejemplo inset\")\r\n",
        "frutas.insert(3, \"Limon\")\r\n",
        "print(f\"tamaño de la lista = { len(frutas )} \")\r\n",
        "print(frutas)\r\n",
        "\r\n",
        "print(\"Ejemplo remove, eliminar el kiwi\")\r\n",
        "frutas.remove(\"kiwi\")\r\n",
        "print(frutas)\r\n",
        "\r\n",
        "print(\"Ejemplo con operador del\")\r\n",
        "del frutas[2] # operador de listas no es una funcion\r\n",
        "print(frutas)\r\n",
        "\r\n",
        "\r\n",
        "frutas.clear()\r\n",
        "print(frutas)"
      ],
      "execution_count": 20,
      "outputs": [
        {
          "output_type": "stream",
          "text": [
            "['melon', 'sandia', 'kiwi', 'aguacate', 'mango', 'platano', 'Fresa']\n",
            "Ejemplo de copias\n",
            "['melon', 'sandia', 'kiwi', 'aguacate', 'mango', 'platano', 'Fresa']\n",
            "['melon', 'sandia', 'kiwi', 'aguacate', 'mango', 'platano', 'Fresa']\n",
            "['Chico zapote', 'sandia', 'kiwi', 'aguacate', 'mango', 'platano', 'Fresa']\n",
            "['melon', 'sandia', 'kiwi', 'aguacate', 'mango', 'platano', 'Fresa']\n",
            "------------\n",
            "Ejemplo de extend\n",
            "['melon', 'sandia', 'kiwi', 'aguacate', 'mango', 'platano', 'Fresa', 'rojo', 'verde', 'azul']\n",
            "Ejemplo inset\n",
            "tamaño de la lista = 11 \n",
            "['melon', 'sandia', 'kiwi', 'Limon', 'aguacate', 'mango', 'platano', 'Fresa', 'rojo', 'verde', 'azul']\n",
            "Ejemplo remove, eliminar el kiwi\n",
            "['melon', 'sandia', 'Limon', 'aguacate', 'mango', 'platano', 'Fresa', 'rojo', 'verde', 'azul']\n",
            "Ejemplo con operador del\n",
            "['melon', 'sandia', 'aguacate', 'mango', 'platano', 'Fresa', 'rojo', 'verde', 'azul']\n",
            "[]\n"
          ],
          "name": "stdout"
        }
      ]
    },
    {
      "cell_type": "code",
      "metadata": {
        "colab": {
          "base_uri": "https://localhost:8080/"
        },
        "id": "RljygmN-_E5y",
        "outputId": "d1ea24e0-320e-4faf-c306-13e03dc9ddc8"
      },
      "source": [
        "cosas = [\"jose\", True,2,3,4,5,\"pedro\",1.23]\r\n",
        "indice = 0\r\n",
        "a_eliminar=[]\r\n",
        "for elemento in cosas:\r\n",
        "  if isinstance(elemento,int ) :\r\n",
        "    print(\"entero\", elemento)\r\n",
        "    a_eliminar.append(elemento)\r\n",
        "  indice += 1  \r\n",
        "    #cosas.remove(elemento)\r\n",
        "\r\n",
        "print(a_eliminar)\r\n",
        "for indice in a_eliminar:\r\n",
        "  print( indice)  \r\n",
        "  cosas.remove(indice)\r\n",
        "  print(cosas)"
      ],
      "execution_count": 31,
      "outputs": [
        {
          "output_type": "stream",
          "text": [
            "entero True\n",
            "entero 2\n",
            "entero 3\n",
            "entero 4\n",
            "entero 5\n",
            "[True, 2, 3, 4, 5]\n",
            "True\n",
            "['jose', 2, 3, 4, 5, 'pedro', 1.23]\n",
            "2\n",
            "['jose', 3, 4, 5, 'pedro', 1.23]\n",
            "3\n",
            "['jose', 4, 5, 'pedro', 1.23]\n",
            "4\n",
            "['jose', 5, 'pedro', 1.23]\n",
            "5\n",
            "['jose', 'pedro', 1.23]\n"
          ],
          "name": "stdout"
        }
      ]
    },
    {
      "cell_type": "code",
      "metadata": {
        "colab": {
          "base_uri": "https://localhost:8080/"
        },
        "id": "28k5Nl0pFJOS",
        "outputId": "93228736-fcef-4d28-98f1-ad5f82c9b5ab"
      },
      "source": [
        "# slicing sibre listas\r\n",
        "\r\n",
        "frutas = [\"melon\", \"sandia\", \"kiwi\", \"aguacate\" , \"mango\" , \"platano\"]\r\n",
        "print(frutas[ 1 : 4 : 1 ])\r\n",
        "\r\n",
        "\r\n",
        "print(\"------------------\")\r\n",
        "\r\n",
        "sistemas_operativos= [\"windows\", \"mac os\", \"linux\", \"android\"]\r\n",
        "autos= [\"ford\", \"mazda\", \"honda\"]\r\n",
        "\r\n",
        "cosas = [ sistemas_operativos, autos ]\r\n",
        "print(cosas)\r\n",
        "print(cosas[0][2])\r\n",
        "print(cosas[0][3][2:5])\r\n",
        "\r\n"
      ],
      "execution_count": 48,
      "outputs": [
        {
          "output_type": "stream",
          "text": [
            "['sandia', 'kiwi', 'aguacate']\n",
            "------------------\n",
            "[['windows', 'mac os', 'linux', 'android'], ['ford', 'mazda', 'honda']]\n",
            "linux\n",
            "dro\n"
          ],
          "name": "stdout"
        }
      ]
    }
  ]
}