{
  "nbformat": 4,
  "nbformat_minor": 0,
  "metadata": {
    "colab": {
      "name": "Python.ipynb",
      "provenance": [],
      "authorship_tag": "ABX9TyMAYq1sVQQshmgDJcF3UTtA",
      "include_colab_link": true
    },
    "kernelspec": {
      "name": "python3",
      "display_name": "Python 3"
    }
  },
  "cells": [
    {
      "cell_type": "markdown",
      "metadata": {
        "id": "view-in-github",
        "colab_type": "text"
      },
      "source": [
        "<a href=\"https://colab.research.google.com/github/Vlozista/cyp_2021/blob/main/Python.ipynb\" target=\"_parent\"><img src=\"https://colab.research.google.com/assets/colab-badge.svg\" alt=\"Open In Colab\"/></a>"
      ]
    },
    {
      "cell_type": "code",
      "metadata": {
        "id": "S0u7prcxTh5t",
        "outputId": "a1e2dcff-1284-4496-e1f2-035c622681ee",
        "colab": {
          "base_uri": "https://localhost:8080/"
        }
      },
      "source": [
        "#Ejemplo 1\n",
        "numero=int (input(\"Dame un numero:  \"))\n",
        "if numero >0: \n",
        "  print(\"El numero es positivo\")\n",
        "\n",
        "print(\"Fin del programa\")\n"
      ],
      "execution_count": 34,
      "outputs": [
        {
          "output_type": "stream",
          "text": [
            "Dame un numero:   1\n",
            "El numero es positivo\n",
            "Fin del programa\n"
          ],
          "name": "stdout"
        }
      ]
    },
    {
      "cell_type": "code",
      "metadata": {
        "id": "ReSb8C-kUQ_w",
        "outputId": "43cfea86-7f09-424b-b8fd-2471899397b1",
        "colab": {
          "base_uri": "https://localhost:8080/"
        }
      },
      "source": [
        "#Ejemplo 2\n",
        "\n",
        "numero=int (input(\"Dame un numero:  \"))\n",
        "if numero >0:\n",
        "  print(\"El numero es positivo\")\n",
        "else: \n",
        "  print(\"El numero es negativo\")\n",
        "\n",
        "print(\"Fin del programa\")"
      ],
      "execution_count": 33,
      "outputs": [
        {
          "output_type": "stream",
          "text": [
            "Dame un numero:  1\n",
            "El numero es positivo\n",
            "Fin del programa\n"
          ],
          "name": "stdout"
        }
      ]
    },
    {
      "cell_type": "code",
      "metadata": {
        "id": "x8A5OTV0WDpO",
        "outputId": "9f7c30a6-021e-435c-b2cc-8a56f5ebd15f",
        "colab": {
          "base_uri": "https://localhost:8080/"
        }
      },
      "source": [
        "#Ejemplo 3\n",
        "numero = int(input(\"Ingresa un numero: \"))\n",
        "if numero>0:\n",
        "    print(\"El numero es positivo\")\n",
        "elif numero==0:\n",
        "    print(\"El numero cero\")\n",
        "else:\n",
        " print(\"El numero es negativo\")"
      ],
      "execution_count": 22,
      "outputs": [
        {
          "output_type": "stream",
          "text": [
            "Ingresa un numero: -6\n",
            "El numero es negativo\n"
          ],
          "name": "stdout"
        }
      ]
    }
  ]
}