{
  "nbformat": 4,
  "nbformat_minor": 0,
  "metadata": {
    "colab": {
      "name": "29nov2020.ipynb",
      "provenance": [],
      "authorship_tag": "ABX9TyMsX1B2JgBkin06Kcfxzy8S",
      "include_colab_link": true
    },
    "kernelspec": {
      "name": "python3",
      "display_name": "Python 3"
    }
  },
  "cells": [
    {
      "cell_type": "markdown",
      "metadata": {
        "id": "view-in-github",
        "colab_type": "text"
      },
      "source": [
        "<a href=\"https://colab.research.google.com/github/Vlozista/cyp_2021/blob/main/29nov2020.ipynb\" target=\"_parent\"><img src=\"https://colab.research.google.com/assets/colab-badge.svg\" alt=\"Open In Colab\"/></a>"
      ]
    },
    {
      "cell_type": "code",
      "metadata": {
        "colab": {
          "base_uri": "https://localhost:8080/"
        },
        "id": "NS8fMAgjk1-e",
        "outputId": "893d0216-e26e-4aea-bc3f-18d3a4e624ea"
      },
      "source": [
        "#Concepto de asignacion \n",
        "i = 0\n",
        "i = i + 1\n",
        "i = i + 1 \n",
        "print(f\"I = { i }\")\n",
        "j = 5 ** 2 / 3\n",
        "print(f\"j = { j }\")"
      ],
      "execution_count": null,
      "outputs": [
        {
          "output_type": "stream",
          "text": [
            "I = 2\n",
            "j = 8.333333333333334\n"
          ],
          "name": "stdout"
        }
      ]
    },
    {
      "cell_type": "code",
      "metadata": {
        "colab": {
          "base_uri": "https://localhost:8080/"
        },
        "id": "4EgqZw5LmwkL",
        "outputId": "e1f3bd51-ba2f-4049-9ee0-01243106d3e5"
      },
      "source": [
        "#Declaracion de variables(reservando memoria)\n",
        "A = 0\n",
        "B = 0\n",
        "C = 0\n",
        "D = 0\n",
        "A = int(input(\"Dame un valor entero: \"))\n",
        "B = int(input(\"Dame un valor entero: \"))\n",
        "C = int(input(\"Dame un valor entero: \"))\n",
        "D = int(input(\"Dame un valor entero: \"))\n",
        "print(D)\n",
        "print(C)\n",
        "print(B)\n",
        "print(A)\n"
      ],
      "execution_count": null,
      "outputs": [
        {
          "output_type": "stream",
          "text": [
            "Dame un valor entero: 8\n",
            "Dame un valor entero: 1\n",
            "Dame un valor entero: 4\n",
            "Dame un valor entero: 2\n",
            "2\n",
            "4\n",
            "1\n",
            "8\n"
          ],
          "name": "stdout"
        }
      ]
    },
    {
      "cell_type": "code",
      "metadata": {
        "colab": {
          "base_uri": "https://localhost:8080/"
        },
        "id": "qlLBmv8RphYy",
        "outputId": "82da7d9c-a347-4aae-8f7e-6be9b3297ebf"
      },
      "source": [
        "#EEjemplo 1.7\n",
        "A = 0\n",
        "B = 0\n",
        "A = int(input(\"Dame un entero: \"))\n",
        "B = int(input(\"Dame un entero: \"))\n",
        "RES = (A + B )** 2 / 3\n",
        "print(RES)"
      ],
      "execution_count": null,
      "outputs": [
        {
          "output_type": "stream",
          "text": [
            "Dame un entero: 5\n",
            "Dame un entero: 6\n",
            "40.333333333333336\n"
          ],
          "name": "stdout"
        }
      ]
    }
  ]
}
