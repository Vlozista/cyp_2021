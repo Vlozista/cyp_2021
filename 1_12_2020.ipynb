{
  "nbformat": 4,
  "nbformat_minor": 0,
  "metadata": {
    "colab": {
      "name": "1-12-2020.ipynb",
      "provenance": [],
      "authorship_tag": "ABX9TyNtSwHsQeYPmUZvjcSCVkxh",
      "include_colab_link": true
    },
    "kernelspec": {
      "name": "python3",
      "display_name": "Python 3"
    }
  },
  "cells": [
    {
      "cell_type": "markdown",
      "metadata": {
        "id": "view-in-github",
        "colab_type": "text"
      },
      "source": [
        "<a href=\"https://colab.research.google.com/github/Vlozista/cyp_2021/blob/main/1_12_2020.ipynb\" target=\"_parent\"><img src=\"https://colab.research.google.com/assets/colab-badge.svg\" alt=\"Open In Colab\"/></a>"
      ]
    },
    {
      "cell_type": "code",
      "metadata": {
        "id": "nSm7uWPXTdzm"
      },
      "source": [
        "#Ejemplo 1\n",
        "numero1=int(input(\"Introduce el primer numero : \"))\n",
        "numero2=int(input(\"Introduce el segundo numero : \"))\n",
        "numero3=int(input(\"Introduce el tercer numero : \"))\n",
        "if num1 > num2 and num1 > num3:\n",
        "  print(\"El numero mayor es: \", num1)\n",
        "elif num2 > num3:\n",
        "  print(\"El numero mayor es: \", num2)\n",
        "else:\n",
        "  print(\"El numero mayor es: \", num3)"
      ],
      "execution_count": null,
      "outputs": []
    },
    {
      "cell_type": "code",
      "metadata": {
        "id": "-xWfkS5vVuxh"
      },
      "source": [
        "#Ejemplo 2\n",
        "print(\"Ingrese el nombre del trabajador\")\n",
        "nombre=str (input())\n",
        "print(\"¿Cuantas horas trabajo esta semana?\",nombre,\":\" )\n",
        "horas=int (input())\n",
        "print(\"¿Cuanto se le paga por hora?:\")\n",
        "sueldoH= float (input())\n",
        "\n",
        "#Evaluar el sueldo\n",
        "if(horas<=40):\n",
        "  pago=horas + sueldoH\n",
        "  print(\"El sueldo final de :$\",nombre , \"es\", pago)\n",
        "else:\n",
        "  extras = horas - 40\n",
        "  pago = 40*sueldoH\n",
        "  pagoFinal = pago + ((extras * sueldoH)*2)\n",
        "  print(nombre,\"Su pago total es de $\",pagoFinal) \n"
      ],
      "execution_count": null,
      "outputs": []
    },
    {
      "cell_type": "code",
      "metadata": {
        "colab": {
          "base_uri": "https://localhost:8080/"
        },
        "id": "3mbO5qcrZYz_",
        "outputId": "53883751-4332-41f7-fcd7-d29ad2866fae"
      },
      "source": [
        "#Ejemplo 3\n",
        "#Calcular el salario semanal de x trabajador\n",
        "#El salario semanal se calcula en base a las horas semanales trabajadas\n",
        "#El pago por hora es variable (se pide por teclado)\n",
        "#Si las horas trabajadas superan las 40 horas, el pago por hora extra es:\n",
        "#Doble en el rango de 41horas a 50horas\n",
        "#Triple en el rango de 51horas a 60 horas\n",
        "#Incentivo de $2000 si rebasa las 60 horas.\n",
        "\n",
        "print(\"Ingrese el nombre del empleado\")\n",
        "nombre=str (input())\n",
        "print(\"¿Cuantas horas trabajo esta semana?\",nombre,\":\" )\n",
        "horas=int (input())\n",
        "horas=int(horas)\n",
        "print(\"¿Cuanto se le paga por hora?:\")\n",
        "sueldoH=input()\n",
        "sueldoH=float(sueldoH)\n",
        "\n",
        "#Evaluar el sueldo\n",
        "\n",
        "if(horas<=40):\n",
        "  pago=horas * sueldoH\n",
        "  print(\"El sueldo final de : \",nombre , \"Es $\", pago)\n",
        "\n",
        "elif(horas > 40 and horas <=50):\n",
        "  extrasDobles=horas-40\n",
        "  print(\"Horas extra dobles:\" , extrasDobles)\n",
        "  pago=40*sueldoH\n",
        "  print(\"sueldo base:$\", pago)\n",
        "  pagoDoble= extrasDobles * sueldoH * 2\n",
        "  print(\"pago de horas dobles:$\" , pagoDoble)\n",
        "  pagoFinal=pago + pagoDoble\n",
        "  print(\"El sueldo final de :\", nombre, \"Es $\", pagoFinal)\n",
        "\n",
        "elif(horas >50 and horas <=60):\n",
        "  extrasTriples=horas-50\n",
        "  print(\"Horas extra dobles:10\")\n",
        "  print(\"Horas extra triples:\", extrasTriples)\n",
        "  pago = 40 * sueldoH\n",
        "  print(\"Sueldo base:$\", pago)\n",
        "  pagoDoble= 10*sueldoH*2\n",
        "  print(\"pago de horas extras dobles:\", pagoDoble)\n",
        "  pagoTriple= extrasTriples * sueldoH * 3\n",
        "  print(\"pado de horas extra triples:\", pagoTriple)\n",
        "  pagoFinal= pago + pagoDoble + pagoTriple \n",
        "  print(\"El sueldo final de :\",nombre , \"Es $\", pagoFinal)\n",
        "\n",
        "else:\n",
        " extrasTriples=10\n",
        " print(\"Horas extra dobles 10\")\n",
        " print(\"Horas extra triples 10\")\n",
        " pago= 40 * sueldoHprint(\"sueldo Base: $\", pago)\n",
        " pagDoble=10*sueldoH*2\n",
        " print(\"pado de horas extra Dobles: \", pagoDoble)\n",
        " pagoTriple= extrasTriples * sueldoH * 3\n",
        " print(\"pado de horas extra triples:\", pagoTriple)\n",
        " print(\"Incentivo por trabajar mas de 60 horas: $ $2000\")\n",
        " pagoFinal= pago + pagoDoble + pagoTriple + 2000\n",
        "\n"
      ],
      "execution_count": 12,
      "outputs": [
        {
          "output_type": "stream",
          "text": [
            "Ingrese el nombre del empleado\n",
            "luis\n",
            "¿Cuantas horas trabajo esta semana? luis :\n",
            "48\n",
            "¿Cuanto se le paga por hora?:\n",
            "20\n",
            "Horas extra dobles: 8\n",
            "sueldo base:$ 800.0\n",
            "pago de horas dobles:$ 320.0\n",
            "El sueldo final de : luis Es $ 1120.0\n"
          ],
          "name": "stdout"
        }
      ]
    },
    {
      "cell_type": "code",
      "metadata": {
        "id": "1_xJk4ywps2Y"
      },
      "source": [
        "#Estructura for\n",
        "\n",
        "#ejemplo 1\n",
        "for estaciones_año in[\"primavera\", \"verano\", \"otoño\", \"invierno\", \"venus\"]:\n",
        "  print(estaciones_año)"
      ],
      "execution_count": null,
      "outputs": []
    }
  ]
}