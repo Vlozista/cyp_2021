{
  "nbformat": 4,
  "nbformat_minor": 0,
  "metadata": {
    "colab": {
      "name": "codigo.ipynb",
      "provenance": [],
      "authorship_tag": "ABX9TyOq/NR2vnx0BwxYfrZPbc+u",
      "include_colab_link": true
    },
    "kernelspec": {
      "name": "python3",
      "display_name": "Python 3"
    }
  },
  "cells": [
    {
      "cell_type": "markdown",
      "metadata": {
        "id": "view-in-github",
        "colab_type": "text"
      },
      "source": [
        "<a href=\"https://colab.research.google.com/github/Vlozista/cyp_2021/blob/main/codigo-17-11-20.ipynb\" target=\"_parent\"><img src=\"https://colab.research.google.com/assets/colab-badge.svg\" alt=\"Open In Colab\"/></a>"
      ]
    },
    {
      "cell_type": "code",
      "metadata": {
        "colab": {
          "base_uri": "https://localhost:8080/"
        },
        "id": "ZoIjDvwHR_Y1",
        "outputId": "f5494ef4-6ce0-469a-c081-84e1e61413b2"
      },
      "source": [
        "edad = 15\n",
        "estatura = 1.67\n",
        "a = 10\n",
        "b = 3\n",
        "\n",
        "c = 2 ** b + 2 + 3 + 4\n",
        "print (c)\n",
        "\n",
        "e = estatura * 2.0\n",
        "print (c)\n",
        "\n",
        "f = a/b  #en phyton se hace el calculo exacto\n",
        "print(f) # 3.33333\n",
        "\n",
        "# tambien podemos forzar al calculo de enteros\n",
        "g = a // b\n",
        "print(\"g= \",g) \n",
        "\n",
        "h = a % b\n",
        "print(\"h = \",h)\n",
        "\n",
        "num = 11\n",
        "print(\"es par num ? \", (num %2) == 0)"
      ],
      "execution_count": 10,
      "outputs": [
        {
          "output_type": "stream",
          "text": [
            "17\n",
            "17\n",
            "3.3333333333333335\n",
            "g=  3\n",
            "h =  1\n",
            "es par num ?  False\n"
          ],
          "name": "stdout"
        }
      ]
    },
    {
      "cell_type": "code",
      "metadata": {
        "colab": {
          "base_uri": "https://localhost:8080/"
        },
        "id": "BhWE7cj0W4gu",
        "outputId": "4ddba63e-a1c7-49c0-d919-a9b4a44b3318"
      },
      "source": [
        "ecuacion = 9 + 7 * 8 - 36 / 5\n",
        "print(ecuacion)\n",
        "ecuacion = (9+7) * 8 - 36 / 5\n",
        "print(ecuacion)\n",
        "\n",
        "ecuacion = 0\n",
        "ecuacion = (9 + 7) * 8 - 36 / 5 \n",
        "print (ecuacion)\n",
        "\n",
        "ecuacion = (9+7) * 8 - 36 / 5\n",
        "print(ecuacion)"
      ],
      "execution_count": 17,
      "outputs": [
        {
          "output_type": "stream",
          "text": [
            "57.8\n",
            "120.8\n",
            "120.8\n"
          ],
          "name": "stdout"
        }
      ]
    },
    {
      "cell_type": "code",
      "metadata": {
        "colab": {
          "base_uri": "https://localhost:8080/"
        },
        "id": "v1VjOncvbz52",
        "outputId": "fb4e2df5-b69b-48bf-efee-3ebaf3279ce9"
      },
      "source": [
        "# operadores logicos\n",
        "\n",
        "valor = (4 == 4) # true\n",
        "print(valor)\n",
        "\n",
        "#operadores logicos --> True y False\n",
        "\n",
        "x = 5\n",
        "y = 4\n",
        "valor = (x ==y) #Son iguales ?? -->Falso\n",
        "print(valor)\n",
        "valor = (x !=y) #Son diferentes?? --> verdadero\n",
        "print(valor)\n",
        "\n",
        "valor = (x < y) # x es mejor que y?? false\n",
        "print(valor)\n",
        "\n",
        "valor = (x > y) # x es mayor que y?? false\n",
        "print(valor)\n",
        "\n",
        "y = 5\n",
        "valor = (x <= y) # x es menor o igual que y?? True\n",
        "print(valor)\n",
        "valor = (x >= y) # x es menor o igual que y?? True\n",
        "print(valor)"
      ],
      "execution_count": 21,
      "outputs": [
        {
          "output_type": "stream",
          "text": [
            "True\n",
            "False\n",
            "True\n"
          ],
          "name": "stdout"
        }
      ]
    },
    {
      "cell_type": "code",
      "metadata": {
        "colab": {
          "base_uri": "https://localhost:8080/"
        },
        "id": "slTKjsHWfd7K",
        "outputId": "408f7036-7096-40e4-dc20-ea94de7aca33"
      },
      "source": [
        "costo_chetos = 7.0\n",
        "tienda_abierta = False\n",
        "capital_en_bolsa= 10.0\n",
        "se_compra = ( costo_chetos < capital_en_bolsa ) and (tienda_abierta == True)\n",
        "print(se_compra)"
      ],
      "execution_count": 26,
      "outputs": [
        {
          "output_type": "stream",
          "text": [
            "False\n"
          ],
          "name": "stdout"
        }
      ]
    }
  ]
}