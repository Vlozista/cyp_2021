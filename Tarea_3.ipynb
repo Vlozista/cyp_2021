{
  "nbformat": 4,
  "nbformat_minor": 0,
  "metadata": {
    "colab": {
      "name": "Tarea 3.ipynb",
      "provenance": [],
      "authorship_tag": "ABX9TyMce9sjWlX41TRIULTRAwAs",
      "include_colab_link": true
    },
    "kernelspec": {
      "name": "python3",
      "display_name": "Python 3"
    }
  },
  "cells": [
    {
      "cell_type": "markdown",
      "metadata": {
        "id": "view-in-github",
        "colab_type": "text"
      },
      "source": [
        "<a href=\"https://colab.research.google.com/github/Vlozista/cyp_2021/blob/main/Tarea_3.ipynb\" target=\"_parent\"><img src=\"https://colab.research.google.com/assets/colab-badge.svg\" alt=\"Open In Colab\"/></a>"
      ]
    },
    {
      "cell_type": "code",
      "metadata": {
        "colab": {
          "base_uri": "https://localhost:8080/"
        },
        "id": "3ifeD_GEvxAu",
        "outputId": "6d52c5fc-4ece-463b-e5cf-ab1d30d31ff7"
      },
      "source": [
        "#Problema 1.1 \n",
        "PREPRO = 0.0\n",
        "PAGO = 0\n",
        "DEVO = 0.0\n",
        "PREPRO = float(input(\"Proporciona el precio del producto: \"))\n",
        "PAGO = int(input(\"Pago que realizara: \"))\n",
        "DEVO = (PAGO - PREPRO) \n",
        "print(\"Su cambio es: \",DEVO)"
      ],
      "execution_count": 48,
      "outputs": [
        {
          "output_type": "stream",
          "text": [
            "Proporciona el precio del producto: 21.73\n",
            "Pago que realizara: 50\n",
            "Su cambio es:  28.27\n"
          ],
          "name": "stdout"
        }
      ]
    },
    {
      "cell_type": "code",
      "metadata": {
        "colab": {
          "base_uri": "https://localhost:8080/"
        },
        "id": "cffK74eQ4PuM",
        "outputId": "ab8a9670-c539-4297-d933-283c5eed3448"
      },
      "source": [
        "#Problema 1.2\n",
        "BASE = 0\n",
        "ALTU = 0\n",
        "BASE = float(input(\"Proporciona la base del triangulo: \"))\n",
        "ALTU = float(input(\"Proporciona la altura del triangulo: \"))\n",
        "SUP = (BASE*ALTU)/2\n",
        "print(\"La superficie del triangulo es: \",SUP)"
      ],
      "execution_count": 31,
      "outputs": [
        {
          "output_type": "stream",
          "text": [
            "Proporciona la base del triangulo: 120.60\n",
            "Proporciona la altura del triangulo: 85.90\n",
            "La superficie del triangulo es:  5179.77\n"
          ],
          "name": "stdout"
        }
      ]
    },
    {
      "cell_type": "code",
      "metadata": {
        "colab": {
          "base_uri": "https://localhost:8080/"
        },
        "id": "z7FHppNl7t_1",
        "outputId": "aeb284bd-75a9-425c-d9fc-1154589be99f"
      },
      "source": [
        "#Problema 1.3\n",
        "NOM = 0\n",
        "PES = 0\n",
        "LON = 0\n",
        "NOM = (input(\"Proporciona el nombre del dinosaurio: \"))\n",
        "PES = float(input(\"Proporciona el peso del dinosaurio en libras: \"))\n",
        "LON = float(input(\"Proporciona la longitud del dinosaurio en pies: \"))\n",
        "PESKIL = PES*1000\n",
        "LONMET = LON*0.3047\n",
        "print(\"El nombre del dinosaurio es: \",NOM,)\n",
        "print(\"El peso del dinosaurio en kilogramos es: \",PESKIL)\n",
        "print(\"La longitud del dinosaurio es: \",LONMET)"
      ],
      "execution_count": 36,
      "outputs": [
        {
          "output_type": "stream",
          "text": [
            "Proporciona el nombre del dinosaurio: TYRAMMOSAURUS\n",
            "Proporciona el peso del dinosaurio en libras: 8\n",
            "Proporciona la longitud del dinosaurio en pies: 30\n",
            "El nombre del dinosaurio es:  TYRAMMOSAURUS El peso del dinosaurio en kilogramos es:  8000.0 La longitud del dinosaurio es:  9.141\n"
          ],
          "name": "stdout"
        }
      ]
    },
    {
      "cell_type": "code",
      "metadata": {
        "colab": {
          "base_uri": "https://localhost:8080/"
        },
        "id": "bIoOz5pBHu3k",
        "outputId": "f0f622db-86ac-4690-c3ab-6c10a433bf05"
      },
      "source": [
        "#Problema 1.4\n",
        "GAL = 0\n",
        "GAL = float(input(\"Proporcione el numero de galones que se le surtieron: \"))\n",
        "TOTAL = GAL*3.785*8.20\n",
        "print(\"El total que tiene que pagar es: \",TOTAL)"
      ],
      "execution_count": 46,
      "outputs": [
        {
          "output_type": "stream",
          "text": [
            "Proporcione el numero de galones que se le surtieron: 9.66\n",
            "El total que tiene que pagar es:  299.81741999999997\n"
          ],
          "name": "stdout"
        }
      ]
    },
    {
      "cell_type": "code",
      "metadata": {
        "colab": {
          "base_uri": "https://localhost:8080/"
        },
        "id": "nyd2IL5QLIHL",
        "outputId": "e91e8518-483a-4a8b-ae5f-714630cc1c30"
      },
      "source": [
        "#Problema 1.5\n",
        "RADIO = 0\n",
        "ALTU = 0\n",
        "RADIO = float(input(\"Proporciona el radio de un cilindro: \"))\n",
        "ALTU = float(input(\"Proporciona la altura del cilindro: \"))\n",
        "VOL = 3.141592*(RADIO**2)*ALTU\n",
        "ARE = 2*3.141592*RADIO*ALTU\n",
        "print(\"EL volumen del cilindro es: \",VOL)\n",
        "print(\"El area del cilindro es: \",ARE)"
      ],
      "execution_count": 53,
      "outputs": [
        {
          "output_type": "stream",
          "text": [
            "Proporciona el radio de un cilindro: 69.30\n",
            "Proporciona la altura del cilindro: 72.40\n",
            "EL volumen del cilindro es:  1092332.405479392\n",
            "El area del cilindro es:  31524.744746880006\n"
          ],
          "name": "stdout"
        }
      ]
    },
    {
      "cell_type": "code",
      "metadata": {
        "colab": {
          "base_uri": "https://localhost:8080/"
        },
        "id": "pm4TBd_CO0yn",
        "outputId": "2690ceb2-ee9e-49f9-fce9-148cb070a610"
      },
      "source": [
        "#Problema 1.6\n",
        "DIAS = 0\n",
        "DIAS = int(input(\"Proporciona el numero de dias: \"))\n",
        "SEG = DIAS*24*60*60\n",
        "print(\"Los segundos totales de esos dias son: \",SEG)"
      ],
      "execution_count": 55,
      "outputs": [
        {
          "output_type": "stream",
          "text": [
            "Proporciona el numero de dias: 116\n",
            "Los segundos totales de esos dias son:  10022400\n"
          ],
          "name": "stdout"
        }
      ]
    },
    {
      "cell_type": "code",
      "metadata": {
        "colab": {
          "base_uri": "https://localhost:8080/"
        },
        "id": "OiWT8NXKQTOB",
        "outputId": "9c6946c8-683b-4d54-c20a-df53918e4129"
      },
      "source": [
        "#Problema 1.7\n",
        "L1 = 0\n",
        "L2 = 0\n",
        "L3 = 0\n",
        "L1 = float(input(\"Proporcione el lado 1: \"))\n",
        "L2 = float(input(\"Proporcione el lado 2: \"))\n",
        "L3 = float(input(\"Proporcione el lado 3: \"))\n",
        "S = (L1 + L2 + L3)/2\n",
        "AREA = (S*(S - L1)*(S - L2)*(S - L3))**0.5\n",
        "print(\"EL area del triangulo es: \",AREA)\n"
      ],
      "execution_count": 61,
      "outputs": [
        {
          "output_type": "stream",
          "text": [
            "Proporcione el lado 1: 2.0\n",
            "Proporcione el lado 2: 16.0\n",
            "Proporcione el lado 3: 15.8\n",
            "EL area del triangulo es:  15.788980334397756\n"
          ],
          "name": "stdout"
        }
      ]
    }
  ]
}