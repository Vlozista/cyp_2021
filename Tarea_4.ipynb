{
  "nbformat": 4,
  "nbformat_minor": 0,
  "metadata": {
    "colab": {
      "name": "Tarea 4.ipynb",
      "provenance": [],
      "collapsed_sections": [],
      "authorship_tag": "ABX9TyM1N74geMy9stdXyk/vUKo3",
      "include_colab_link": true
    },
    "kernelspec": {
      "name": "python3",
      "display_name": "Python 3"
    }
  },
  "cells": [
    {
      "cell_type": "markdown",
      "metadata": {
        "id": "view-in-github",
        "colab_type": "text"
      },
      "source": [
        "<a href=\"https://colab.research.google.com/github/Vlozista/cyp_2021/blob/main/Tarea_4.ipynb\" target=\"_parent\"><img src=\"https://colab.research.google.com/assets/colab-badge.svg\" alt=\"Open In Colab\"/></a>"
      ]
    },
    {
      "cell_type": "code",
      "metadata": {
        "colab": {
          "base_uri": "https://localhost:8080/"
        },
        "id": "k9AdefTfR-xD",
        "outputId": "d931f200-545b-4cef-efe8-8ee6f5ef38e1"
      },
      "source": [
        "#Ejercicio 2.4\n",
        "\n",
        "sue = float(input(\"Introduzca el sueldo: \"))\n",
        "\n",
        "if (sue<=1000):\n",
        "  nsue = sue * 1.15 \n",
        "  print(\"El sueldo con aumento es:\",nsue)\n",
        "else:\n",
        "  nsue = sue * 1.12\n",
        "  print(\"El sueldo con aumento es:\",nsue)"
      ],
      "execution_count": 3,
      "outputs": [
        {
          "output_type": "stream",
          "text": [
            "Introduzca el sueldo: 680.70\n",
            "El sueldo con aumento es: 782.805\n"
          ],
          "name": "stdout"
        }
      ]
    },
    {
      "cell_type": "code",
      "metadata": {
        "colab": {
          "base_uri": "https://localhost:8080/"
        },
        "id": "9v8YByzjT9j4",
        "outputId": "7727481a-a25a-4947-ef03-1c6bfb07ce19"
      },
      "source": [
        "#Ejercicio 2.8\n",
        "\n",
        "cat = int(input(\"Proporcione la categoria del trabajador: \"))\n",
        "sue = float(input(\"Proporcione el sueldo del trabajador\"))\n",
        "\n",
        "if (cat == 1):\n",
        "  nsue = sue * 1.15\n",
        "  print(\"El sueldo de categoria \",cat, \"es: \", nsue)\n",
        "elif (cat == 2):\n",
        "  nsue = sue * 1.10\n",
        "  print(\"El sueldo de categoria \",cat, \"es: \", nsue)\n",
        "elif (cat == 3):\n",
        "  nsue = sue * 1.08\n",
        "  print(\"El sueldo de categoria \",cat, \"es: \", nsue)\n",
        "elif (cat == 4):\n",
        "  nsue = sue * 1.07\n",
        "  print(\"El sueldo de categoria \",cat, \"es: \", nsue)"
      ],
      "execution_count": 6,
      "outputs": [
        {
          "output_type": "stream",
          "text": [
            "Proporcione la categoria del trabajador: 4\n",
            "Proporcione el sueldo del trabajador6200\n",
            "El sueldo de categoria  4 es:  6634.0\n"
          ],
          "name": "stdout"
        }
      ]
    }
  ]
}